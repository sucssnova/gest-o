{
  "nbformat": 4,
  "nbformat_minor": 0,
  "metadata": {
    "colab": {
      "provenance": [],
      "authorship_tag": "ABX9TyNVuhNWYWPNykc0WsTdbJDd",
      "include_colab_link": true
    },
    "kernelspec": {
      "name": "python3",
      "display_name": "Python 3"
    },
    "language_info": {
      "name": "python"
    }
  },
  "cells": [
    {
      "cell_type": "markdown",
      "metadata": {
        "id": "view-in-github",
        "colab_type": "text"
      },
      "source": [
        "<a href=\"https://colab.research.google.com/github/dmhubdigital/dmhubdigital/blob/main/Gest%C3%A3o_financeira.ipynb\" target=\"_parent\"><img src=\"https://colab.research.google.com/assets/colab-badge.svg\" alt=\"Open In Colab\"/></a>"
      ]
    },
    {
      "cell_type": "code",
      "source": [
        "import sqlite3\n",
        "\n",
        "# Criando uma conexão com o banco de dados\n",
        "conn = sqlite3.connect(\"gestao_financeira.db\")\n",
        "cursor = conn.cursor()\n",
        "\n",
        "# Criando as tabelas Receita e Despesa, caso elas ainda não existam\n",
        "cursor.execute(\"\"\"\n",
        "CREATE TABLE IF NOT EXISTS Receita (\n",
        "    id INTEGER PRIMARY KEY AUTOINCREMENT,\n",
        "    descricao TEXT NOT NULL,\n",
        "    valor REAL NOT NULL\n",
        ");\n",
        "\"\"\")\n",
        "cursor.execute(\"\"\"\n",
        "CREATE TABLE IF NOT EXISTS Despesa (\n",
        "    id INTEGER PRIMARY KEY AUTOINCREMENT,\n",
        "    descricao TEXT NOT NULL,\n",
        "    valor REAL NOT NULL\n",
        ");\n",
        "\"\"\")\n",
        "\n",
        "# Função para adicionar uma nova receita ao banco de dados\n",
        "def adicionar_receita(descricao, valor):\n",
        "    cursor.execute(\"\"\"\n",
        "    INSERT INTO Receita (descricao, valor)\n",
        "    VALUES (?, ?);\n",
        "    \"\"\", (descricao, valor))\n",
        "    conn.commit()\n",
        "\n",
        "# Função para adicionar uma nova despesa ao banco de dados\n",
        "def adicionar_despesa(descricao, valor):\n",
        "    cursor.execute(\"\"\"\n",
        "    INSERT INTO Despesa (descricao, valor)\n",
        "    VALUES (?, ?);\n",
        "    \"\"\", (descricao, valor))\n",
        "    conn.commit()\n",
        "\n",
        "# Loop para registrar receitas e despesas\n",
        "while True:\n",
        "    opcao = input(\"Digite R para registrar receita, D para registrar despesa e S para sair: \")\n",
        "    \n",
        "    if opcao.upper() == \"R\":\n",
        "        descricao = input(\"Descrição da receita: \")\n",
        "        valor = float(input(\"Valor da receita: \"))\n",
        "        adicionar_receita(descricao, valor)\n",
        "    \n",
        "    elif opcao.upper() == \"D\":\n",
        "        descricao = input(\"Descrição da despesa: \")\n",
        "        valor = float(input(\"Valor da despesa: \"))\n",
        "        adicionar_despesa(descricao, valor)\n",
        "    \n",
        "    elif opcao.upper() == \"S\":\n",
        "        break\n",
        "\n",
        "# Calculando o saldo total\n",
        "saldo = 0\n",
        "cursor.execute(\"SELECT SUM(valor) FROM Receita\")\n",
        "resultado = cursor.fetchone()\n",
        "if resultado[0] is not None:\n",
        "    saldo += resultado[0]\n",
        "cursor.execute(\"SELECT SUM(valor) FROM Despesa\")\n",
        "resultado = cursor.fetchone()\n",
        "if resultado[0] is not None:\n",
        "    saldo -= resultado[0]\n",
        "\n",
        "# Imprimindo o resultado\n",
        "print(\"Receitas:\")\n",
        "cursor.execute(\"SELECT * FROM Receita\")\n",
        "for linha in cursor.fetchall():\n",
        "    print(f\"{linha[1]} - R${linha[2]:.2f}\")\n",
        "\n",
        "print(\"Despesas:\")\n",
        "cursor.execute(\"SELECT * FROM Despesa\")\n",
        "for linha in cursor.fetchall():\n",
        "    print(f\"{linha[1]} - R${linha[2]:.2f}\")\n",
        "\n",
        "print(f\"Saldo total: R${saldo:.2f}\")\n",
        "\n",
        "# Fechando a conexão com o banco de dados\n",
        "conn.close()\n"
      ],
      "metadata": {
        "colab": {
          "base_uri": "https://localhost:8080/"
        },
        "id": "S5kyKKSumBqf",
        "outputId": "e2ffa0a5-5f43-4f8f-f6df-352bdbff6c01"
      },
      "execution_count": 15,
      "outputs": [
        {
          "output_type": "stream",
          "name": "stdout",
          "text": [
            "Digite R para registrar receita, D para registrar despesa e S para sair: r\n",
            "Descrição da receita: teste\n",
            "Valor da receita: 50\n",
            "Digite R para registrar receita, D para registrar despesa e S para sair: s\n",
            "Receitas:\n",
            "vendi - R$56.00\n",
            "teste - R$50.00\n",
            "Despesas:\n",
            "venda de bolo - R$50.00\n",
            "512 - R$42.00\n",
            "dkkdf - R$15.00\n",
            "Saldo total: R$-1.00\n"
          ]
        }
      ]
    },
    {
      "cell_type": "code",
      "source": [
        "conn = sqlite3.connect(\"gestao_financeira.db\")\n",
        "cursor = conn.cursor()\n"
      ],
      "metadata": {
        "id": "TLmdZ8MVm52X"
      },
      "execution_count": 16,
      "outputs": []
    },
    {
      "cell_type": "code",
      "source": [
        "import sqlite3\n",
        "\n",
        "# Criando uma conexão com o banco de dados\n",
        "conn = sqlite3.connect(\"gestao_financeira.db\")\n",
        "cursor = conn.cursor()\n",
        "\n",
        "# Função para consultar as receitas\n",
        "def consultar_receitas():\n",
        "    cursor.execute(\"SELECT * FROM Receita\")\n",
        "    return cursor.fetchall()\n",
        "\n",
        "# Função para consultar as despesas\n",
        "def consultar_despesas():\n",
        "    cursor.execute(\"SELECT * FROM Despesa\")\n",
        "    return cursor.fetchall()\n",
        "\n",
        "# Imprimindo as receitas\n",
        "print(\"Receitas:\")\n",
        "for linha in consultar_receitas():\n",
        "    print(f\"{linha[1]} - R${linha[2]:.2f}\")\n",
        "\n",
        "# Imprimindo as despesas\n",
        "print(\"Despesas:\")\n",
        "for linha in consultar_despesas():\n",
        "    print(f\"{linha[1]} - R${linha[2]:.2f}\")\n",
        "\n",
        "def consultar_saldo():\n",
        "  # Calculando o saldo total\n",
        "  saldo = 0\n",
        "  cursor.execute(\"SELECT SUM(valor) FROM Receita\")\n",
        "  resultado = cursor.fetchone()\n",
        "  if resultado[0] is not None:\n",
        "      saldo += resultado[0]\n",
        "  cursor.execute(\"SELECT SUM(valor) FROM Despesa\")\n",
        "  resultado = cursor.fetchone()\n",
        "  if resultado[0] is not None:\n",
        "      saldo -= resultado[0]\n",
        "# Saldo total\n",
        "print(f\"************Saldo total: R${saldo:.2f}*************\")\n",
        "\n",
        "# Fechando a conexão com o banco de dados\n",
        "conn.close()\n"
      ],
      "metadata": {
        "colab": {
          "base_uri": "https://localhost:8080/"
        },
        "id": "JtVHu2mXm6SN",
        "outputId": "affdc3e1-a109-461d-f20f-ee2752c672bb"
      },
      "execution_count": 20,
      "outputs": [
        {
          "output_type": "stream",
          "name": "stdout",
          "text": [
            "Receitas:\n",
            "vendi - R$56.00\n",
            "teste - R$50.00\n",
            "Despesas:\n",
            "venda de bolo - R$50.00\n",
            "512 - R$42.00\n",
            "dkkdf - R$15.00\n",
            "************Saldo total: R$-1.00*************\n"
          ]
        }
      ]
    }
  ]
}